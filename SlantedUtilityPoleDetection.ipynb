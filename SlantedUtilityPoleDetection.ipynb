{
 "cells": [
  {
   "cell_type": "markdown",
   "id": "b28c9acc-8d0f-4d00-862d-8942497b70c1",
   "metadata": {},
   "source": [
    "### Check the status of NVIDIA GPU (optional)"
   ]
  },
  {
   "cell_type": "code",
   "execution_count": null,
   "id": "9433b04d-c90a-4543-b7e1-26e13d1ba120",
   "metadata": {},
   "outputs": [],
   "source": [
    "!nvidia-smi"
   ]
  },
  {
   "cell_type": "markdown",
   "id": "63caec01-2479-4083-a3f6-ba288303567d",
   "metadata": {},
   "source": [
    "### Install the required libraries to run our model"
   ]
  },
  {
   "cell_type": "code",
   "execution_count": null,
   "id": "2ab49e7d-8bea-4e74-b0cd-7d99bade11bc",
   "metadata": {},
   "outputs": [],
   "source": [
    "!pip install ultralytics==8.2.103 ipython\n",
    "\n",
    "import ultralytics\n",
    "ultralytics.checks()\n",
    "\n",
    "from IPython.display import Image"
   ]
  },
  {
   "cell_type": "markdown",
   "id": "23ac325a-ba40-4180-aeea-34f1e39f13b3",
   "metadata": {},
   "source": [
    "### Test our model with the sample image"
   ]
  },
  {
   "cell_type": "code",
   "execution_count": null,
   "id": "884b60fa-c395-4340-a310-73b5124190c0",
   "metadata": {},
   "outputs": [],
   "source": [
    "!yolo task=detect mode=predict model=slanted-utility-pole-detection.pt conf=0.75 source=sample.jpg"
   ]
  },
  {
   "cell_type": "markdown",
   "id": "5b1d37ec-aeee-42b5-b436-36501f6cd911",
   "metadata": {},
   "source": [
    "### # Display the processed image showing the detected poles in the sample image"
   ]
  },
  {
   "cell_type": "code",
   "execution_count": null,
   "id": "1c9a8ff8-20e8-463e-bd9b-a99d5814791e",
   "metadata": {},
   "outputs": [],
   "source": [
    "Image(filename='runs/detect/predict/sample.jpg')"
   ]
  }
 ],
 "metadata": {
  "kernelspec": {
   "display_name": "Python 3 (ipykernel)",
   "language": "python",
   "name": "python3"
  },
  "language_info": {
   "codemirror_mode": {
    "name": "ipython",
    "version": 3
   },
   "file_extension": ".py",
   "mimetype": "text/x-python",
   "name": "python",
   "nbconvert_exporter": "python",
   "pygments_lexer": "ipython3",
   "version": "3.10.14"
  }
 },
 "nbformat": 4,
 "nbformat_minor": 5
}
